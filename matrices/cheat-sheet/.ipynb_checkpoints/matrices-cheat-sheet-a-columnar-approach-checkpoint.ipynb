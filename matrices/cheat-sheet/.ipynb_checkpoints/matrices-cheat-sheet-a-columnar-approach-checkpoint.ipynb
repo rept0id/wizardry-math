{
 "cells": [
  {
   "cell_type": "markdown",
   "id": "c3aff591-c48c-43dd-920c-5ac1712983fc",
   "metadata": {},
   "source": [
    "# Matrices Cheat Sheet"
   ]
  },
  {
   "cell_type": "markdown",
   "id": "d2633a2c-0c29-4946-ab13-24e474d2b81d",
   "metadata": {},
   "source": [
    "***A columnar approach.***"
   ]
  },
  {
   "cell_type": "markdown",
   "id": "4e9158c0-e969-4ee6-826e-a4c717bd47f2",
   "metadata": {},
   "source": [
    "version : 1, author : Rantouan Achmet <rad@simplecode.gr>"
   ]
  },
  {
   "cell_type": "markdown",
   "id": "69da52f9-b8d5-4572-8426-6feb895d743d",
   "metadata": {},
   "source": [
    "- The numbers are arranged in a column format, with each number being unique. This allows you to easily identify the cell from which a number originates by simply looking at it.\n",
    "- Columns represent \"actions\" while rows represent \"data\". Thus, in a column and row calculation, column's numbers \"act\" on row's \"datum\" numbers."
   ]
  },
  {
   "cell_type": "markdown",
   "id": "9cc8b4a1-f268-4ad0-b084-f7dd915a72d0",
   "metadata": {},
   "source": [
    "## Definitions\n",
    "\n",
    "This is a matrix :\n",
    "\n",
    "$$\n",
    "\\begin{bmatrix}\n",
    "1 & 4 & 7 \\\\\n",
    "2 & 5 & 8 \\\\\n",
    "3 & 6 & 9\n",
    "\\end{bmatrix}\n",
    "$$\n",
    "\n",
    "This is a column vector :\n",
    "\n",
    "$$\n",
    "\\begin{vmatrix}\n",
    "1 \\\\\n",
    "2 \\\\\n",
    "3\n",
    "\\end{vmatrix}\n",
    "$$\n",
    "\n",
    "This is a row vector :\n",
    "\n",
    "$$\n",
    "\\begin{vmatrix}\n",
    "1 && 2 && 3\n",
    "\\end{vmatrix}\n",
    "$$"
   ]
  },
  {
   "cell_type": "markdown",
   "id": "63ece528-e81b-41a5-aabd-fc147bc6a57b",
   "metadata": {},
   "source": [
    "## Multiplication"
   ]
  },
  {
   "cell_type": "markdown",
   "id": "ab8c70e1-a3b7-460b-bf6c-7fe620ea52c2",
   "metadata": {},
   "source": [
    "### Column Vector * Column Vector\n",
    "\n",
    "$$\n",
    "\\begin{vmatrix} 1 \\\\ 2 \\\\ 3 \\end{vmatrix} \n",
    "*\n",
    "\\begin{vmatrix} 4 \\\\ 5 \\\\ 6 \\end{vmatrix} \n",
    "= \\begin{vmatrix} (1 * 4) \\\\ (2 * 5) \\\\ (3 * 6) \\end{vmatrix} \n",
    "= \\begin{vmatrix} 4 \\\\ 10 \\\\ 18 \\end{vmatrix}\n",
    "$$"
   ]
  },
  {
   "cell_type": "markdown",
   "id": "1bdd72d6-fbee-4529-b819-33c70bc0d7b7",
   "metadata": {},
   "source": [
    "### Column Vector * Row Vector\n",
    "\n",
    "$$\n",
    "\\begin{vmatrix} \n",
    "    1 \\\\ 2 \\\\ 3 \n",
    "\\end{vmatrix}\n",
    "*\n",
    "\\begin{vmatrix} \n",
    "    4 & 5 & 6 \n",
    "\\end{vmatrix}\n",
    "= \\begin{bmatrix} \n",
    "    (1*4) & (1*5) & (1*6) \\\\ \n",
    "    (2*4) & (2*5) & (2*6) \\\\ \n",
    "    (3*4) & (3*5) & (3*6) \n",
    "\\end{bmatrix}\n",
    "= \\begin{bmatrix} \n",
    "    4 & 5 & 6 \\\\ \n",
    "    8 & 10 & 12 \\\\ \n",
    "    12 & 15 & 18 \n",
    "\\end{bmatrix}\n",
    "$$"
   ]
  },
  {
   "cell_type": "markdown",
   "id": "8a0fe93b-8005-4209-b4f9-20587caed7b3",
   "metadata": {},
   "source": [
    "### Column Vector * Number\n",
    "\n",
    "$$\n",
    "\\begin{vmatrix} \n",
    "    1 \\\\ \n",
    "    2 \\\\ \n",
    "    3 \n",
    "\\end{vmatrix} \n",
    "*\n",
    "4\n",
    "= \n",
    "\\begin{vmatrix} \n",
    "    (1*4)\\\\\n",
    "    (2*4)\\\\\n",
    "    (3*4)\\\\\n",
    "\\end{vmatrix} \n",
    "= \n",
    "\\begin{vmatrix} \n",
    "    4 \\\\ \n",
    "    8 \\\\ \n",
    "    12 \n",
    "\\end{vmatrix}\n",
    "$$\n"
   ]
  },
  {
   "cell_type": "markdown",
   "id": "7c21fbc2-3caf-4510-bb80-0b45430cafc1",
   "metadata": {},
   "source": [
    "### Row Vector * Column Vector\n",
    "\n",
    "$$\n",
    "\\begin{vmatrix} \n",
    "    1 & 2 & 3 \n",
    "\\end{vmatrix}\n",
    "*\n",
    "\\begin{vmatrix} \n",
    "    4 \\\\ \n",
    "    5 \\\\ \n",
    "    6 \n",
    "\\end{vmatrix}\n",
    "= \\begin{bmatrix} \n",
    "    (4*1) & (5*1) & (6*1) \\\\ \n",
    "    (4*2) & (5*2) & (6*2) \\\\ \n",
    "    (4*3) & (5*3) & (6*3) \n",
    "\\end{bmatrix}\n",
    "= \\begin{bmatrix} \n",
    "    4 & 5 & 6 \\\\ \n",
    "    8 & 10 & 12 \\\\ \n",
    "    12 & 15 & 18 \n",
    "\\end{bmatrix}\n",
    "$$"
   ]
  },
  {
   "cell_type": "markdown",
   "id": "02e7e1be-d40f-45cc-8494-022e7a72d9d7",
   "metadata": {},
   "source": [
    "### Row Vector * Row Vector\n",
    "\n",
    "Impossible"
   ]
  },
  {
   "cell_type": "markdown",
   "id": "74f07920-5fbd-4c2a-bbe6-39a9a5cab9ba",
   "metadata": {},
   "source": [
    "### Row Vector * Number\n",
    "\n",
    "$$\n",
    "\\begin{bmatrix} \n",
    "    1 & 2 & 3 \n",
    "\\end{bmatrix} \n",
    "*\n",
    "100\n",
    "= \n",
    "\\begin{vmatrix} \n",
    "    (1*100) & (2*100) & (3*100) \n",
    "\\end{vmatrix} \n",
    "= \n",
    "\\begin{vmatrix} \n",
    "    100 & 200 & 300 \n",
    "\\end{vmatrix}\n",
    "$$"
   ]
  },
  {
   "cell_type": "markdown",
   "id": "f31fa21e-da08-4af1-80ed-f8bd43305a42",
   "metadata": {},
   "source": [
    "### Matrix * Column Vector\n",
    "\n",
    "$$\n",
    "\\begin{bmatrix}\n",
    "1 & 4 & 7\\\\\n",
    "2 & 5 & 8\\\\\n",
    "3 & 6 & 9\n",
    "\\end{bmatrix}\n",
    "*\n",
    "\\begin{vmatrix}\n",
    "10\\\\\n",
    "11\\\\\n",
    "12\n",
    "\\end{vmatrix}\n",
    "=\n",
    "\\begin{vmatrix}\n",
    "(10*1+11*4+12*7)\\\\\n",
    "(10*2+11*5+12*8)\\\\\n",
    "(10*3+11*6+12*9)\n",
    "\\end{vmatrix}\n",
    "=\n",
    "\\begin{vmatrix}\n",
    "138 \\\\\n",
    "171 \\\\\n",
    "204\n",
    "\\end{vmatrix}\n",
    "$$"
   ]
  },
  {
   "cell_type": "markdown",
   "id": "2c3a67a1-14d3-44ba-97ba-f4de44bb2f9f",
   "metadata": {},
   "source": [
    "### Matrix * Row Vector\n",
    "\n",
    "Impossible"
   ]
  },
  {
   "cell_type": "markdown",
   "id": "5952b9e4-a91d-4222-a06a-e7ae72a0df15",
   "metadata": {},
   "source": [
    "### Column Vector * Matrix\n",
    "\n",
    "Impossible"
   ]
  },
  {
   "cell_type": "markdown",
   "id": "7d308491-f661-4972-b769-55d80a543295",
   "metadata": {},
   "source": [
    "### Row Vector * Matrix\n",
    "\n",
    "$$\n",
    "\\begin{vmatrix} \n",
    "    1 & 2 & 3 \n",
    "\\end{vmatrix}\n",
    "*\n",
    "\\begin{bmatrix} \n",
    "    4 & 7 & 10 \\\\\n",
    "    5 & 8 & 11 \\\\\n",
    "    6 & 9 & 12 \n",
    "\\end{bmatrix}\n",
    "$$\n",
    "$$\n",
    "=\n",
    "\\begin{vmatrix}\n",
    "    (4*1 + 5*2 + 6*3) \n",
    "    & (7*1 + 8*2 + 9*3) \n",
    "    & (10*1 + 11*2 + 12*3) \n",
    "\\end{vmatrix}\n",
    "$$\n",
    "$$\n",
    "=\n",
    "\\begin{vmatrix} \n",
    "    32 & 50 & 68 \n",
    "\\end{vmatrix}\n",
    "$$"
   ]
  },
  {
   "cell_type": "markdown",
   "id": "2469f064-fe36-41a9-a17c-d08314f3ff63",
   "metadata": {},
   "source": [
    "### Matrix * Matrix\n",
    "\n",
    "Just split the other matrix into columns and follow *Matrix * Column Vector* !\n",
    "\n",
    "$$\n",
    "\\begin{bmatrix}\n",
    "    1 & 4 & 7 \\\\\n",
    "    2 & 5 & 8 \\\\\n",
    "    3 & 6 & 9\n",
    "\\end{bmatrix}\n",
    "*\n",
    "\\begin{bmatrix}\n",
    "    10 & 13 \\\\\n",
    "    11 & 14 \\\\\n",
    "    12 & 15 \\\\\n",
    "\\end{bmatrix}\n",
    "$$\n",
    "\n",
    "$$\n",
    "=\n",
    "\\begin{bmatrix}\n",
    "    \\begin{bmatrix}\n",
    "        1 & 4 & 7 \\\\\n",
    "        2 & 5 & 8 \\\\\n",
    "        3 & 6 & 9\n",
    "    \\end{bmatrix}\n",
    "    *\n",
    "    \\begin{vmatrix}\n",
    "        10 \\\\\n",
    "        11 \\\\\n",
    "        12 \\\\\n",
    "    \\end{vmatrix}\n",
    "    &&\n",
    "    \\begin{bmatrix}\n",
    "        1 & 4 & 7 \\\\\n",
    "        2 & 5 & 8 \\\\\n",
    "        3 & 6 & 9\n",
    "    \\end{bmatrix}\n",
    "    *\n",
    "    \\begin{vmatrix}\n",
    "        13 \\\\\n",
    "        14 \\\\\n",
    "        15 \\\\\n",
    "    \\end{vmatrix}\n",
    "\\end{bmatrix}\n",
    "$$\n",
    "\n",
    "$$\n",
    "= \n",
    "\\begin{bmatrix}\n",
    "    \\begin{matrix}\n",
    "        (10*1 + 11*4 + 12*7) \\\\\n",
    "        (10*2 + 11*5 + 12*8) \\\\\n",
    "        (10*3 + 11*6 + 12*9)\n",
    "    \\end{matrix}\n",
    "    &&\n",
    "    \\begin{matrix}\n",
    "        (13*1 + 14*4 + 15*7) \\\\\n",
    "        (13*2 + 14*5 + 15*8) \\\\\n",
    "        (13*3 + 14*6 + 15*9)\n",
    "    \\end{matrix}\n",
    "\\end{bmatrix}\n",
    "$$\n",
    "\n",
    "$$\n",
    "= \n",
    "\\begin{bmatrix}\n",
    "    \\begin{matrix}\n",
    "        138 \\\\\n",
    "        171 \\\\\n",
    "        204\n",
    "    \\end{matrix}\n",
    "    &&\n",
    "    \\begin{matrix}\n",
    "        174 \\\\\n",
    "        216 \\\\\n",
    "        258\n",
    "    \\end{matrix}\n",
    "\\end{bmatrix}\n",
    "$$"
   ]
  },
  {
   "cell_type": "markdown",
   "id": "829c347d-98f9-43ac-bd80-6007a5a9bccb",
   "metadata": {},
   "source": [
    "### Matrix * Number\n",
    "\n",
    "$$\n",
    "\\begin{bmatrix}\n",
    "    1 & 4 & 7 \\\\\n",
    "    2 & 5 & 8 \\\\\n",
    "    3 & 6 & 9\n",
    "\\end{bmatrix}\n",
    "*\n",
    "100\n",
    "=\n",
    "\\begin{bmatrix}\n",
    "    100*1 & 100*4 & 100*7 \\\\\n",
    "    100*2 & 100*5 & 100*8 \\\\\n",
    "    100*3 & 100*6 & 100*9\n",
    "\\end{bmatrix}\n",
    "=\n",
    "\\begin{bmatrix}\n",
    "    100 & 400 & 700 \\\\\n",
    "    200 & 500 & 800 \\\\\n",
    "    300 & 600 & 900\n",
    "\\end{bmatrix}\n",
    "$$"
   ]
  },
  {
   "cell_type": "markdown",
   "id": "639db7c4-d42a-4579-b26f-af213f907a31",
   "metadata": {},
   "source": [
    "### Number * Row Vector\n",
    "\n",
    "Refer to *Row Vector * Number*"
   ]
  },
  {
   "cell_type": "markdown",
   "id": "40fd8163-3acd-4296-87b2-930c81f5854f",
   "metadata": {},
   "source": [
    "### Number * Column Vector\n",
    "\n",
    "Refer to *Column Vector * Number*"
   ]
  },
  {
   "cell_type": "markdown",
   "id": "2da8ab5b-e58f-4a03-bcb8-6aea47f69056",
   "metadata": {},
   "source": [
    "### Number * Matrix\n",
    "\n",
    "Refer to *Matrix * Number*"
   ]
  }
 ],
 "metadata": {
  "kernelspec": {
   "display_name": "Python 3 (ipykernel)",
   "language": "python",
   "name": "python3"
  },
  "language_info": {
   "codemirror_mode": {
    "name": "ipython",
    "version": 3
   },
   "file_extension": ".py",
   "mimetype": "text/x-python",
   "name": "python",
   "nbconvert_exporter": "python",
   "pygments_lexer": "ipython3",
   "version": "3.12.5"
  }
 },
 "nbformat": 4,
 "nbformat_minor": 5
}
